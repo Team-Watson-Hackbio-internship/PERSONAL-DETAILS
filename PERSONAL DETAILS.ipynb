{
 "cells": [
  {
   "cell_type": "code",
   "execution_count": 20,
   "metadata": {},
   "outputs": [
    {
     "name": "stdout",
     "output_type": "stream",
     "text": [
      "NAME:Isa joseph danladi\n",
      "email:isahjoseph2014@gmail.com\n",
      "Bio_stack:Genomics\n",
      "Slack_user_name:isa@\n"
     ]
    }
   ],
   "source": [
    "#personal information\n",
    "def personal_details():\n",
    "    name='Isa joseph danladi'\n",
    "    email='isahjoseph2014@gmail.com'\n",
    "    bio_slack='Genomics'\n",
    "    slack_user_name='isa@'\n",
    "    print('NAME:{}\\nemail:{}\\nBio_stack:{}\\nSlack_user_name:{}'.format(name,email,bio_slack,slack_user_name))\n",
    "personal_details()    "
   ]
  },
  {
   "cell_type": "code",
   "execution_count": null,
   "metadata": {},
   "outputs": [],
   "source": [
    "\n",
    "    "
   ]
  },
  {
   "cell_type": "code",
   "execution_count": null,
   "metadata": {},
   "outputs": [],
   "source": []
  }
 ],
 "metadata": {
  "kernelspec": {
   "display_name": "Python 3",
   "language": "python",
   "name": "python3"
  },
  "language_info": {
   "codemirror_mode": {
    "name": "ipython",
    "version": 3
   },
   "file_extension": ".py",
   "mimetype": "text/x-python",
   "name": "python",
   "nbconvert_exporter": "python",
   "pygments_lexer": "ipython3",
   "version": "3.7.4"
  }
 },
 "nbformat": 4,
 "nbformat_minor": 2
}
